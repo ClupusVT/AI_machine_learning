{
  "cells": [
    {
      "cell_type": "markdown",
      "metadata": {
        "id": "view-in-github",
        "colab_type": "text"
      },
      "source": [
        "<a href=\"https://colab.research.google.com/github/ClupusVT/Python_AI_machine_learning/blob/main/Ger_Detect_Signal.ipynb\" target=\"_parent\"><img src=\"https://colab.research.google.com/assets/colab-badge.svg\" alt=\"Open In Colab\"/></a>"
      ]
    },
    {
      "cell_type": "code",
      "execution_count": null,
      "metadata": {
        "colab": {
          "base_uri": "https://localhost:8080/"
        },
        "id": "gwehtQQn7Q7T",
        "outputId": "1121e7b6-696f-432b-89c3-cf100870ec92"
      },
      "outputs": [
        {
          "output_type": "stream",
          "name": "stdout",
          "text": [
            "\u001b[?25l   \u001b[90m━━━━━━━━━━━━━━━━━━━━━━━━━━━━━━━━━━━━━━━━\u001b[0m \u001b[32m0.0/79.1 kB\u001b[0m \u001b[31m?\u001b[0m eta \u001b[36m-:--:--\u001b[0m\r\u001b[2K   \u001b[90m━━━━━━━━━━━━━━━━━━━━━━━━━━━━━━━━━━━━━━━━\u001b[0m \u001b[32m79.1/79.1 kB\u001b[0m \u001b[31m3.2 MB/s\u001b[0m eta \u001b[36m0:00:00\u001b[0m\n",
            "\u001b[?25h\u001b[?25l   \u001b[90m━━━━━━━━━━━━━━━━━━━━━━━━━━━━━━━━━━━━━━━━\u001b[0m \u001b[32m0.0/54.5 kB\u001b[0m \u001b[31m?\u001b[0m eta \u001b[36m-:--:--\u001b[0m\r\u001b[2K   \u001b[90m━━━━━━━━━━━━━━━━━━━━━━━━━━━━━━━━━━━━━━━━\u001b[0m \u001b[32m54.5/54.5 kB\u001b[0m \u001b[31m3.8 MB/s\u001b[0m eta \u001b[36m0:00:00\u001b[0m\n",
            "\u001b[?25h"
          ]
        }
      ],
      "source": [
        "!pip install -q roboflow"
      ]
    },
    {
      "cell_type": "code",
      "execution_count": null,
      "metadata": {
        "id": "BEAyxTslC5L0"
      },
      "outputs": [],
      "source": [
        "!git clone https://github.com/ultralytics/ultralytics.git\n",
        "%cd ultralytics\n",
        "!pip install -e .\n"
      ]
    },
    {
      "cell_type": "code",
      "execution_count": null,
      "metadata": {
        "id": "V3_AABg2_iiK"
      },
      "outputs": [],
      "source": [
        "%cd /content\n",
        "!curl -L \"https://app.roboflow.com/ds/co64WOOPNh?key=7szGA1deQh\" > roboflow.zip; unzip roboflow.zip; rm roboflow.zip"
      ]
    },
    {
      "cell_type": "code",
      "execution_count": null,
      "metadata": {
        "id": "v3AZiZwz-d9c"
      },
      "outputs": [],
      "source": [
        "!yolo task=detect mode=train model=yolov8n.pt data=/content/data.yaml epochs=100 imgsz=640 batch=16"
      ]
    },
    {
      "cell_type": "code",
      "execution_count": null,
      "metadata": {
        "id": "1E52n9s6RtkN"
      },
      "outputs": [],
      "source": [
        "!pip show ultralytics"
      ]
    },
    {
      "cell_type": "code",
      "execution_count": null,
      "metadata": {
        "id": "QZmpLdAJPs_f"
      },
      "outputs": [],
      "source": [
        "from ultralytics import YOLO\n",
        "url = 'https://media.istockphoto.com/id/1277797793/photo/speed-limit-indication-road-signs-on-blue-background.jpg?s=612x612&w=0&k=20&c=QAUvJOO1TWnETzaaKOnTuIEh8_PxK7UKq8hNwtLG18g='\n",
        "model = YOLO('/content/ultralytics/runs/detect/train/weights/best.pt')\n",
        "results = model('https://media.istockphoto.com/id/1277797793/photo/speed-limit-indication-road-signs-on-blue-background.jpg?s=612x612&w=0&k=20&c=QAUvJOO1TWnETzaaKOnTuIEh8_PxK7UKq8hNwtLG18g=', save = True, project = \"/content/1.jpg\")\n"
      ]
    },
    {
      "cell_type": "code",
      "execution_count": null,
      "metadata": {
        "id": "7EJKNPi-Tkap"
      },
      "outputs": [],
      "source": [
        "from ultralytics import YOLO\n",
        "model = YOLO('/content/best.pt')\n",
        "results = model('https://www.shutterstock.com/shutterstock/photos/1456875203/display_1500/stock-photo-height-and-width-limitation-mandatory-traffic-signs-on-a-narrow-street-in-the-old-town-of-bologna-1456875203.jpg', save = True, project = \"/content/1.jpg\")\n"
      ]
    }
  ],
  "metadata": {
    "colab": {
      "machine_shape": "hm",
      "toc_visible": true,
      "provenance": [],
      "mount_file_id": "1c5TRGC90S_nmzrqd3zlW74NZYXcWYKO0",
      "authorship_tag": "ABX9TyM7FiDXPVeQNXhe6xzf8RNu",
      "include_colab_link": true
    },
    "kernelspec": {
      "display_name": "Python 3",
      "name": "python3"
    },
    "language_info": {
      "name": "python"
    }
  },
  "nbformat": 4,
  "nbformat_minor": 0
}