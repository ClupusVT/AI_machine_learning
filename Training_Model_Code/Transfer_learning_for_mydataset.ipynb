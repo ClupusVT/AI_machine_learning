{
  "cells": [
    {
      "cell_type": "code",
      "execution_count": null,
      "metadata": {
        "colab": {
          "base_uri": "https://localhost:8080/"
        },
        "id": "qQSNIVpPsvN3",
        "outputId": "bb1641f6-774c-4109-e41a-20a4a628e264"
      },
      "outputs": [
        {
          "name": "stdout",
          "output_type": "stream",
          "text": [
            "\u001b[?25l   \u001b[90m━━━━━━━━━━━━━━━━━━━━━━━━━━━━━━━━━━━━━━━━\u001b[0m \u001b[32m0.0/79.9 kB\u001b[0m \u001b[31m?\u001b[0m eta \u001b[36m-:--:--\u001b[0m\r\u001b[2K   \u001b[90m━━━━━━━━━━━━━━━━━━━━━━━━━━━━━━━━━━━━━━━━\u001b[0m \u001b[32m79.9/79.9 kB\u001b[0m \u001b[31m3.4 MB/s\u001b[0m eta \u001b[36m0:00:00\u001b[0m\n",
            "\u001b[2K   \u001b[90m━━━━━━━━━━━━━━━━━━━━━━━━━━━━━━━━━━━━━━━━\u001b[0m \u001b[32m66.8/66.8 kB\u001b[0m \u001b[31m4.4 MB/s\u001b[0m eta \u001b[36m0:00:00\u001b[0m\n",
            "\u001b[2K   \u001b[90m━━━━━━━━━━━━━━━━━━━━━━━━━━━━━━━━━━━━━━━━\u001b[0m \u001b[32m54.5/54.5 kB\u001b[0m \u001b[31m3.5 MB/s\u001b[0m eta \u001b[36m0:00:00\u001b[0m\n",
            "\u001b[?25h"
          ]
        }
      ],
      "source": [
        "!pip install -q roboflow\n",
        "!pip install -q unzip"
      ]
    },
    {
      "cell_type": "code",
      "execution_count": null,
      "metadata": {
        "id": "CTOukJEvZj3C"
      },
      "outputs": [],
      "source": [
        "!git clone https://github.com/ultralytics/ultralytics.git\n",
        "%cd ultralytics\n",
        "!pip install -e .\n"
      ]
    },
    {
      "cell_type": "code",
      "execution_count": null,
      "metadata": {
        "id": "iySTuvgR7IKX"
      },
      "outputs": [],
      "source": [
        "!yolo task=detect mode=train model=yolov8n.pt data=/content/data.yaml epochs=50 imgsz=640 batch=16"
      ]
    },
    {
      "cell_type": "code",
      "execution_count": null,
      "metadata": {
        "id": "hUAcHA69ClnX"
      },
      "outputs": [],
      "source": [
        "!curl -L \"https://app.roboflow.com/ds/7av46qCf8I?key=plNn7bS7Ef\" > roboflow.zip; unzip roboflow.zip; rm roboflow.zip"
      ]
    },
    {
      "cell_type": "code",
      "execution_count": null,
      "metadata": {
        "id": "cXzpNsmoVXZ6"
      },
      "outputs": [],
      "source": [
        "%cd /content\n",
        "!wget http://14.225.204.171:9998/Self_trainning_3.zip"
      ]
    },
    {
      "cell_type": "code",
      "execution_count": null,
      "metadata": {
        "id": "ZYlbyC5JWZf4"
      },
      "outputs": [],
      "source": [
        "%cd /content\n",
        "!unzip /content/Self_trainning_3.zip"
      ]
    },
    {
      "cell_type": "code",
      "execution_count": null,
      "metadata": {
        "id": "WvznRPz4Ym-Y"
      },
      "outputs": [],
      "source": [
        "# Train the model\n",
        "!yolo task=detect mode=train model=/content/best.pt data=/content/Self_trainning/data.yaml epochs=10 imgsz=640 batch=32\n",
        "\n",
        "import os\n",
        "import glob\n",
        "from google.colab import files\n",
        "\n",
        "# Define the base path where YOLO saves the training results\n",
        "base_path = \"/content/ultralytics/runs/detect/\"\n",
        "\n",
        "# Get a list of all training folders\n",
        "train_folders = glob.glob(os.path.join(base_path, 'train*'))\n",
        "\n",
        "# Find the most recently modified training folder\n",
        "latest_train_folder = max(train_folders, key=os.path.getmtime)\n",
        "\n",
        "# Construct the path to the best model\n",
        "model_path = os.path.join(latest_train_folder, \"weights\", \"best.pt\")\n",
        "\n",
        "# Check if the model file exists and download it\n",
        "if os.path.exists(model_path):\n",
        "    print(f\"Training completed. Model found in {latest_train_folder}. Preparing to download...\")\n",
        "    files.download(model_path)\n",
        "else:\n",
        "    print(\"Model not found. Please check the training process and paths.\")\n"
      ]
    },
    {
      "cell_type": "code",
      "execution_count": null,
      "metadata": {
        "id": "3WnD3U_TkqW-"
      },
      "outputs": [],
      "source": [
        "%cd /content\n",
        "!wget http://14.225.204.171:9998/validate_data_2.zip\n",
        "!unzip /content/validate_data_2.zip\n"
      ]
    },
    {
      "cell_type": "code",
      "execution_count": null,
      "metadata": {
        "colab": {
          "base_uri": "https://localhost:8080/"
        },
        "id": "ILtQ3TRCkyhw",
        "outputId": "dbbee3f8-b865-41d5-f9ef-a203a88141f1"
      },
      "outputs": [
        {
          "name": "stdout",
          "output_type": "stream",
          "text": [
            "/content\n",
            "--2024-09-09 03:20:26--  http://14.225.204.171:9998/best_0827.pt\n",
            "Connecting to 14.225.204.171:9998... connected.\n",
            "HTTP request sent, awaiting response... 200 OK\n",
            "Length: 18526742 (18M) [application/octet-stream]\n",
            "Saving to: ‘best_0827.pt’\n",
            "\n",
            "best_0827.pt        100%[===================>]  17.67M  2.04MB/s    in 24s     \n",
            "\n",
            "2024-09-09 03:20:51 (743 KB/s) - ‘best_0827.pt’ saved [18526742/18526742]\n",
            "\n"
          ]
        }
      ],
      "source": [
        "%cd /content\n",
        "!wget http://14.225.204.171:9998/best_0827.pt"
      ]
    },
    {
      "cell_type": "code",
      "execution_count": null,
      "metadata": {
        "id": "VehQPqVanKge"
      },
      "outputs": [],
      "source": [
        "import cv2\n",
        "import os\n",
        "import pandas as pd\n",
        "from ultralytics import YOLO\n",
        "from google.colab.patches import cv2_imshow  # Import for displaying images in Colab\n",
        "\n",
        "# Define paths\n",
        "model_path = '/content/best_0827.pt'  # Path to your trained model\n",
        "input_folder = '/content/validate/images'           # Path to the folder containing images\n",
        "label_folder = '/content/validate/labels'           # Path to the folder containing ground truth labels\n",
        "output_folder = '/content/output'          # Path to save the output images\n",
        "csv_output_path = '/content/evaluation_results.csv'  # Path to save the evaluation results CSV\n",
        "txt_output_path = '/content/final_conclusion.txt'    # Path to save the final conclusion TXT\n",
        "\n",
        "# Create output directory if it doesn't exist\n",
        "os.makedirs(output_folder, exist_ok=True)\n",
        "\n",
        "# Load the YOLOv8 model\n",
        "model = YOLO(model_path)\n",
        "\n",
        "# Initialize lists to store evaluation results\n",
        "results_data = []\n",
        "\n",
        "# Function to parse label file into a list of ground truth classes\n",
        "def parse_label_file(label_path):\n",
        "    classes = []\n",
        "    with open(label_path, 'r') as file:\n",
        "        for line in file:\n",
        "            parts = line.strip().split()\n",
        "            class_id = parts[0]\n",
        "            # Map class IDs to class names if necessary\n",
        "            class_name = {\n",
        "                '5': 'SpeedLimit_50',\n",
        "                '6': 'SpeedLimit_60',\n",
        "                '7': 'SpeedLimit_70',\n",
        "                '8': 'SpeedLimit_80',\n",
        "                '9': 'SpeedLimit_90'\n",
        "            }.get(class_id, class_id)  # Default to class_id if not found\n",
        "            classes.append(class_name)\n",
        "    return classes\n",
        "\n",
        "# Iterate over all images in the input folder\n",
        "for image_name in os.listdir(input_folder):\n",
        "    # Full path to the image\n",
        "    image_path = os.path.join(input_folder, image_name)\n",
        "\n",
        "    # Check if the file is an image\n",
        "    if not image_name.lower().endswith(('.png', '.jpg', '.jpeg', '.bmp')):\n",
        "        continue\n",
        "\n",
        "    # Perform detection\n",
        "    results = model(image_path)\n",
        "\n",
        "    # Extract detected class names\n",
        "    detected_classes = [model.names[int(cls)] for cls in results[0].boxes.cls]\n",
        "\n",
        "    # Corresponding label file\n",
        "    label_file = image_name.replace('.jpg', '.txt')  # Adjust extension if necessary\n",
        "    label_path = os.path.join(label_folder, label_file)\n",
        "\n",
        "    # Parse ground truth classes from label file\n",
        "    if os.path.exists(label_path):\n",
        "        gt_classes = parse_label_file(label_path)\n",
        "    else:\n",
        "        gt_classes = []\n",
        "\n",
        "    # Compare detections with ground truth classes\n",
        "    tp = len(set(detected_classes) & set(gt_classes))  # True Positives: correct class detections\n",
        "    fp = len(detected_classes) - tp  # False Positives: incorrect class detections\n",
        "    fn = len(gt_classes) - tp  # False Negatives: missed ground truth classes\n",
        "\n",
        "    # Save results\n",
        "    results_data.append({\n",
        "        'Image': image_name,\n",
        "        'True Positives': tp,\n",
        "        'False Positives': fp,\n",
        "        'False Negatives': fn,\n",
        "        'Detected Classes': detected_classes,\n",
        "        'Ground Truth Classes': gt_classes\n",
        "    })\n",
        "\n",
        "    # Save the output image with detections\n",
        "    detected_img = results[0].plot()\n",
        "    output_path = os.path.join(output_folder, f\"detected_{image_name}\")\n",
        "    cv2.imwrite(output_path, detected_img)\n",
        "    cv2_imshow(detected_img)  # Display the image in Colab\n",
        "\n",
        "# Convert results to a DataFrame and save to CSV\n",
        "df = pd.DataFrame(results_data)\n",
        "df['Precision'] = df['True Positives'] / (df['True Positives'] + df['False Positives'])\n",
        "df['Recall'] = df['True Positives'] / (df['True Positives'] + df['False Negatives'])\n",
        "df['F1 Score'] = 2 * (df['Precision'] * df['Recall']) / (df['Precision'] + df['Recall'])\n",
        "\n",
        "# Save evaluation results to CSV\n",
        "df.to_csv(csv_output_path, index=False)\n",
        "\n",
        "# Calculate overall evaluation metrics\n",
        "total_tp = df['True Positives'].sum()\n",
        "total_fp = df['False Positives'].sum()\n",
        "total_fn = df['False Negatives'].sum()\n",
        "\n",
        "overall_precision = total_tp / (total_tp + total_fp) if (total_tp + total_fp) > 0 else 0\n",
        "overall_recall = total_tp / (total_tp + total_fn) if (total_tp + total_fn) > 0 else 0\n",
        "overall_f1 = 2 * (overall_precision * overall_recall) / (overall_precision + overall_recall) if (overall_precision + overall_recall) > 0 else 0\n",
        "\n",
        "# Save final conclusion to TXT file\n",
        "with open(txt_output_path, 'w') as f:\n",
        "    f.write(f\"Overall Evaluation Metrics:\\n\")\n",
        "    f.write(f\"Total True Positives: {total_tp}\\n\")\n",
        "    f.write(f\"Total False Positives: {total_fp}\\n\")\n",
        "    f.write(f\"Total False Negatives: {total_fn}\\n\")\n",
        "    f.write(f\"Overall Precision: {overall_precision:.2f}\\n\")\n",
        "    f.write(f\"Overall Recall: {overall_recall:.2f}\\n\")\n",
        "    f.write(f\"Overall F1 Score: {overall_f1:.2f}\\n\")\n",
        "\n",
        "print(\"Evaluation completed and results saved to:\", csv_output_path)\n",
        "print(\"Final conclusion saved to:\", txt_output_path)\n"
      ]
    },
    {
      "cell_type": "code",
      "source": [
        "!rm -r /content/validate"
      ],
      "metadata": {
        "id": "QpVzfibr29CN"
      },
      "execution_count": 22,
      "outputs": []
    }
  ],
  "metadata": {
    "colab": {
      "provenance": []
    },
    "kernelspec": {
      "display_name": "Python 3",
      "name": "python3"
    },
    "language_info": {
      "name": "python"
    }
  },
  "nbformat": 4,
  "nbformat_minor": 0
}