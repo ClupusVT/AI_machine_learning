{
 "cells": [
  {
   "cell_type": "code",
   "execution_count": 4,
   "metadata": {},
   "outputs": [
    {
     "data": {
      "text/html": [
       "<div>\n",
       "<style scoped>\n",
       "    .dataframe tbody tr th:only-of-type {\n",
       "        vertical-align: middle;\n",
       "    }\n",
       "\n",
       "    .dataframe tbody tr th {\n",
       "        vertical-align: top;\n",
       "    }\n",
       "\n",
       "    .dataframe thead th {\n",
       "        text-align: right;\n",
       "    }\n",
       "</style>\n",
       "<table border=\"1\" class=\"dataframe\">\n",
       "  <thead>\n",
       "    <tr style=\"text-align: right;\">\n",
       "      <th></th>\n",
       "      <th>time</th>\n",
       "      <th>open</th>\n",
       "      <th>high</th>\n",
       "      <th>low</th>\n",
       "      <th>close</th>\n",
       "      <th>volume</th>\n",
       "    </tr>\n",
       "  </thead>\n",
       "  <tbody>\n",
       "    <tr>\n",
       "      <th>0</th>\n",
       "      <td>2024-01-02</td>\n",
       "      <td>37.85</td>\n",
       "      <td>38.45</td>\n",
       "      <td>37.60</td>\n",
       "      <td>38.05</td>\n",
       "      <td>3026800</td>\n",
       "    </tr>\n",
       "    <tr>\n",
       "      <th>1</th>\n",
       "      <td>2024-01-03</td>\n",
       "      <td>38.00</td>\n",
       "      <td>38.85</td>\n",
       "      <td>38.00</td>\n",
       "      <td>38.60</td>\n",
       "      <td>3303800</td>\n",
       "    </tr>\n",
       "    <tr>\n",
       "      <th>2</th>\n",
       "      <td>2024-01-04</td>\n",
       "      <td>38.90</td>\n",
       "      <td>39.30</td>\n",
       "      <td>38.50</td>\n",
       "      <td>38.50</td>\n",
       "      <td>4744200</td>\n",
       "    </tr>\n",
       "    <tr>\n",
       "      <th>3</th>\n",
       "      <td>2024-01-05</td>\n",
       "      <td>38.60</td>\n",
       "      <td>39.00</td>\n",
       "      <td>38.20</td>\n",
       "      <td>38.30</td>\n",
       "      <td>2103100</td>\n",
       "    </tr>\n",
       "    <tr>\n",
       "      <th>4</th>\n",
       "      <td>2024-01-08</td>\n",
       "      <td>38.30</td>\n",
       "      <td>38.70</td>\n",
       "      <td>37.90</td>\n",
       "      <td>37.90</td>\n",
       "      <td>2243900</td>\n",
       "    </tr>\n",
       "    <tr>\n",
       "      <th>...</th>\n",
       "      <td>...</td>\n",
       "      <td>...</td>\n",
       "      <td>...</td>\n",
       "      <td>...</td>\n",
       "      <td>...</td>\n",
       "      <td>...</td>\n",
       "    </tr>\n",
       "    <tr>\n",
       "      <th>106</th>\n",
       "      <td>2024-06-11</td>\n",
       "      <td>48.25</td>\n",
       "      <td>49.00</td>\n",
       "      <td>47.55</td>\n",
       "      <td>48.55</td>\n",
       "      <td>8422100</td>\n",
       "    </tr>\n",
       "    <tr>\n",
       "      <th>107</th>\n",
       "      <td>2024-06-12</td>\n",
       "      <td>48.65</td>\n",
       "      <td>48.80</td>\n",
       "      <td>47.90</td>\n",
       "      <td>48.65</td>\n",
       "      <td>4345000</td>\n",
       "    </tr>\n",
       "    <tr>\n",
       "      <th>108</th>\n",
       "      <td>2024-06-13</td>\n",
       "      <td>49.00</td>\n",
       "      <td>50.00</td>\n",
       "      <td>48.35</td>\n",
       "      <td>49.00</td>\n",
       "      <td>4169100</td>\n",
       "    </tr>\n",
       "    <tr>\n",
       "      <th>109</th>\n",
       "      <td>2024-06-14</td>\n",
       "      <td>49.00</td>\n",
       "      <td>51.60</td>\n",
       "      <td>48.00</td>\n",
       "      <td>48.00</td>\n",
       "      <td>8807300</td>\n",
       "    </tr>\n",
       "    <tr>\n",
       "      <th>110</th>\n",
       "      <td>2024-06-17</td>\n",
       "      <td>49.00</td>\n",
       "      <td>51.10</td>\n",
       "      <td>48.75</td>\n",
       "      <td>50.20</td>\n",
       "      <td>7839300</td>\n",
       "    </tr>\n",
       "  </tbody>\n",
       "</table>\n",
       "<p>111 rows × 6 columns</p>\n",
       "</div>"
      ],
      "text/plain": [
       "          time   open   high    low  close   volume\n",
       "0   2024-01-02  37.85  38.45  37.60  38.05  3026800\n",
       "1   2024-01-03  38.00  38.85  38.00  38.60  3303800\n",
       "2   2024-01-04  38.90  39.30  38.50  38.50  4744200\n",
       "3   2024-01-05  38.60  39.00  38.20  38.30  2103100\n",
       "4   2024-01-08  38.30  38.70  37.90  37.90  2243900\n",
       "..         ...    ...    ...    ...    ...      ...\n",
       "106 2024-06-11  48.25  49.00  47.55  48.55  8422100\n",
       "107 2024-06-12  48.65  48.80  47.90  48.65  4345000\n",
       "108 2024-06-13  49.00  50.00  48.35  49.00  4169100\n",
       "109 2024-06-14  49.00  51.60  48.00  48.00  8807300\n",
       "110 2024-06-17  49.00  51.10  48.75  50.20  7839300\n",
       "\n",
       "[111 rows x 6 columns]"
      ]
     },
     "execution_count": 4,
     "metadata": {},
     "output_type": "execute_result"
    }
   ],
   "source": [
    "import pandas as pd\n",
    "from vnstock3 import Quote\n",
    "\n",
    "# Retrieve historical data as a DataFrame\n",
    "quote = Quote('HAH')\n",
    "df = quote.history(start='2024-01-01', end='2024-6-18')\n",
    "df"
   ]
  },
  {
   "cell_type": "code",
   "execution_count": 2,
   "metadata": {},
   "outputs": [
    {
     "data": {
      "image/png": "[encoded data removed]",
      "text/plain": [
       "<Figure size 640x480 with 1 Axes>"
      ]
     },
     "metadata": {},
     "output_type": "display_data"
    },
    {
     "data": {
      "text/plain": [
       "(<Figure size 640x480 with 1 Axes>, <Axes: ylabel='Frequency'>)"
      ]
     },
     "execution_count": 2,
     "metadata": {},
     "output_type": "execute_result"
    }
   ],
   "source": [
    "df.close.viz.hist(bins=20, color='skyblue', edgecolor='black')"
   ]
  },
  {
   "cell_type": "code",
   "execution_count": 26,
   "metadata": {},
   "outputs": [
    {
     "name": "stdout",
     "output_type": "stream",
     "text": [
      "0    3,026,800\n",
      "1    1,234,567\n",
      "2    8,901,234\n",
      "Name: volume, dtype: object\n"
     ]
    }
   ],
   "source": [
    "import pandas as pd\n",
    "\n",
    "# Giả sử df là DataFrame và cột 'volume' là cột bạn muốn định dạng\n",
    "tf = pd.DataFrame(df[:100].volume)\n",
    "\n",
    "# Lấy cột 'volume' đầu tiên và định dạng từng giá trị\n",
    "formatted_series = tf['volume'][:100].apply(lambda x: \"{:,}\".format(x))\n",
    "\n",
    "print(formatted_series)\n",
    "\n"
   ]
  }
 ],
 "metadata": {
  "kernelspec": {
   "display_name": ".venv",
   "language": "python",
   "name": "python3"
  },
  "language_info": {
   "codemirror_mode": {
    "name": "ipython",
    "version": 3
   },
   "file_extension": ".py",
   "mimetype": "text/x-python",
   "name": "python",
   "nbconvert_exporter": "python",
   "pygments_lexer": "ipython3",
   "version": "3.11.9"
  }
 },
 "nbformat": 4,
 "nbformat_minor": 2
}
